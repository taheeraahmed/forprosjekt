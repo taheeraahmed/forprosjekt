{
 "cells": [
  {
   "cell_type": "code",
   "execution_count": 1,
   "metadata": {},
   "outputs": [],
   "source": [
    "import numpy as np\n",
    "import pandas as pd\n",
    "import datetime\n",
    "import os\n",
    "from collections import OrderedDict\n",
    "from pathlib import Path\n",
    "import uuid\n",
    "import pydicom\n",
    "import matplotlib.pyplot as plt\n",
    "import gzip\n"
   ]
  },
  {
   "cell_type": "code",
   "execution_count": 13,
   "metadata": {},
   "outputs": [],
   "source": [
    "fn = df.iloc[0]['path']\n",
    "dicom_path = '/cluster/home/taheeraa/code/forprosjekt/notebooks/datasets/mimic-cxr-test/234da21f-200d4882-21527f23-6097cf26-f585e0bd.dcm'\n",
    "\n",
    "with open(dicom_path, 'rb') as fp:\n",
    "    plan = pydicom.read_file(fp, stop_before_pixels=False)\n",
    "\n",
    "# load in JPG\n",
    "jpg_path = (mimic_cxr_path / 'jpg') / (fn[:-4] + '.jpg')\n",
    "img = cv2.imread(str(jpg_path), 0)"
   ]
  }
 ],
 "metadata": {
  "kernelspec": {
   "display_name": ".venv",
   "language": "python",
   "name": "python3"
  },
  "language_info": {
   "codemirror_mode": {
    "name": "ipython",
    "version": 3
   },
   "file_extension": ".py",
   "mimetype": "text/x-python",
   "name": "python",
   "nbconvert_exporter": "python",
   "pygments_lexer": "ipython3",
   "version": "3.6.8"
  }
 },
 "nbformat": 4,
 "nbformat_minor": 2
}
