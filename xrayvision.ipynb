{
 "cells": [
  {
   "cell_type": "markdown",
   "metadata": {},
   "source": [
    "# Torch X-Ray Vision\n",
    "\n",
    "https://github.com/mlmed/torchxrayvision"
   ]
  },
  {
   "cell_type": "code",
   "execution_count": null,
   "metadata": {},
   "outputs": [],
   "source": [
    "import torchxrayvision as xrv\n",
    "import skimage, torch, torchvision\n",
    "\n",
    "# Prepare the image:\n",
    "img = skimage.io.imread(\"16747_3_1.jpg\")\n",
    "img = xrv.datasets.normalize(img, 255) # convert 8-bit image to [-1024, 1024] range\n",
    "img = img.mean(2)[None, ...] # Make single color channel\n",
    "\n",
    "transform = torchvision.transforms.Compose([xrv.datasets.XRayCenterCrop(),xrv.datasets.XRayResizer(224)])\n",
    "\n",
    "img = transform(img)\n",
    "img = torch.from_numpy(img)\n",
    "\n",
    "# Load model and process image\n",
    "model = xrv.models.DenseNet(weights=\"densenet121-res224-all\")\n",
    "outputs = model(img[None,...]) # or model.features(img[None,...]) \n",
    "\n",
    "# Print results\n",
    "dict(zip(model.pathologies,outputs[0].detach().numpy()))"
   ]
  }
 ],
 "metadata": {
  "kernelspec": {
   "display_name": ".venv",
   "language": "python",
   "name": "python3"
  },
  "language_info": {
   "name": "python",
   "version": "3.11.5"
  }
 },
 "nbformat": 4,
 "nbformat_minor": 2
}
